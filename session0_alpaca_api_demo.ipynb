{
 "cells": [
  {
   "cell_type": "markdown",
   "id": "1f4dec1c19ea2b33",
   "metadata": {
    "collapsed": false,
    "jupyter": {
     "outputs_hidden": false
    }
   },
   "source": [
    "# MGTA 415 - Session 0 Demo: A simple example of paper trading with Alpaca API\n",
    "\n",
    "This notebook demonstrates how to use the Alpaca API to pull real-time news, analyze sentiment, and make trading decisions based on the sentiment analysis.\n",
    "\n",
    "## Step 1: Import Libraries\n",
    "\n",
    "First, we'll import the necessary libraries and import the secrets. \n",
    "This assumes the secrets are already added in .env file.  Everytime you update the .env file you'll need to rebuild the container."
   ]
  },
  {
   "cell_type": "code",
   "execution_count": 10,
   "id": "initial_id",
   "metadata": {},
   "outputs": [],
   "source": [
    "import os\n",
    "import alpaca_trade_api as tradeapi\n",
    "from vaderSentiment.vaderSentiment import SentimentIntensityAnalyzer\n",
    "from datetime import datetime, timedelta\n",
    "import requests\n",
    "import pandas as pd"
   ]
  },
  {
   "cell_type": "code",
   "execution_count": 4,
   "id": "377e8ad9-9da2-4111-8f52-64b33dd3e7c7",
   "metadata": {},
   "outputs": [],
   "source": [
    "ALPACA_URL = 'https://paper-api.alpaca.markets'\n",
    "SYMBOLS = [\"AAPL\"]"
   ]
  },
  {
   "cell_type": "code",
   "execution_count": 5,
   "id": "8bb9f68e-70e8-4c51-8fab-f3905d40a570",
   "metadata": {},
   "outputs": [],
   "source": [
    "# Alpaca API credentials\n",
    "ALPACA_API_KEY = \"PKDFQIPQCXE38TAG1WKG\"\n",
    "ALPACA_SECRET_KEY = \"LRaWwamsMm0WDa58x8S0z8wje9gRcYhcgtMf7C55\"\n",
    "\n",
    "# Initialize Alpaca API\n",
    "alpaca = tradeapi.REST(ALPACA_API_KEY, ALPACA_SECRET_KEY, base_url=ALPACA_URL)\n",
    "\n",
    "# Initialize Sentiment Analyzer\n",
    "sentiment_analyzer = SentimentIntensityAnalyzer()"
   ]
  },
  {
   "cell_type": "markdown",
   "id": "cae4d429-3063-4958-be8a-e28fb3ecd5a1",
   "metadata": {},
   "source": [
    "## Step 2: Retrieve News from Previous Day\n",
    "\n",
    "We'll retrieve news articles from the previous day using Alpaca's API.\n"
   ]
  },
  {
   "cell_type": "code",
   "execution_count": 11,
   "id": "3e4d385bd91a4e0d",
   "metadata": {
    "collapsed": false,
    "jupyter": {
     "outputs_hidden": false
    }
   },
   "outputs": [],
   "source": [
    "# Function to retrieve news from the previous day for specific symbols\n",
    "def get_previous_day_news(symbols):\n",
    "    today = datetime.utcnow()\n",
    "    yesterday = today - timedelta(days=30)\n",
    "    url = \"https://data.alpaca.markets/v1beta1/news\"\n",
    "    headers = {\n",
    "        \"APCA-API-KEY-ID\": ALPACA_API_KEY,\n",
    "        \"APCA-API-SECRET-KEY\": ALPACA_SECRET_KEY\n",
    "    }\n",
    "    params = {\n",
    "        \"symbols\": \",\".join(symbols),\n",
    "        \"start\": yesterday.strftime('%Y-%m-%dT%H:%M:%SZ'),\n",
    "        \"end\": today.strftime('%Y-%m-%dT%H:%M:%SZ'),\n",
    "        \"limit\": 50\n",
    "    }\n",
    "    response = requests.get(url, headers=headers, params=params)\n",
    "    response.raise_for_status()\n",
    "    return response.json()['news']\n",
    "\n",
    "# Retrieve news for specific symbols\n",
    "news = get_previous_day_news(SYMBOLS)\n",
    "\n",
    "news_df = pd.DataFrame(news)"
   ]
  },
  {
   "cell_type": "code",
   "execution_count": 19,
   "id": "a22f9ce6",
   "metadata": {},
   "outputs": [
    {
     "name": "stdout",
     "output_type": "stream",
     "text": [
      "Error fetching content from https://www.benzinga.com/news/24/08/40424112/apple-reportedly-has-several-hundred-working-on-a-robot-arm-with-attached-ipad-techcrunch: Article `download()` failed with 429 Client Error: Too Many Requests for url: https://www.benzinga.com/news/24/08/40424112/apple-reportedly-has-several-hundred-working-on-a-robot-arm-with-attached-ipad-techcrunch on URL https://www.benzinga.com/news/24/08/40424112/apple-reportedly-has-several-hundred-working-on-a-robot-arm-with-attached-ipad-techcrunch\n",
      "Error fetching content from https://www.benzinga.com/news/24/08/40375642/apple-moves-ahead-with-tabletop-robot-push-led-by-ex-car-chief: Article `download()` failed with 429 Client Error: Too Many Requests for url: https://www.benzinga.com/news/24/08/40375642/apple-moves-ahead-with-tabletop-robot-push-led-by-ex-car-chief on URL https://www.benzinga.com/news/24/08/40375642/apple-moves-ahead-with-tabletop-robot-push-led-by-ex-car-chief\n",
      "Error fetching content from https://www.benzinga.com/news/24/08/40371970/developers-can-soon-offer-in-app-nfc-transactions-using-the-secure-element-apple-newsroom: Article `download()` failed with 429 Client Error: Too Many Requests for url: https://www.benzinga.com/news/24/08/40371970/developers-can-soon-offer-in-app-nfc-transactions-using-the-secure-element-apple-newsroom on URL https://www.benzinga.com/news/24/08/40371970/developers-can-soon-offer-in-app-nfc-transactions-using-the-secure-element-apple-newsroom\n",
      "Error fetching content from https://www.benzinga.com/news/24/08/40369893/apple-finally-gives-in-allows-spotify-to-show-alternative-pricing-on-its-outside-of-app-store: Article `download()` failed with 429 Client Error: Too Many Requests for url: https://www.benzinga.com/news/24/08/40369893/apple-finally-gives-in-allows-spotify-to-show-alternative-pricing-on-its-outside-of-app-store on URL https://www.benzinga.com/news/24/08/40369893/apple-finally-gives-in-allows-spotify-to-show-alternative-pricing-on-its-outside-of-app-store\n"
     ]
    }
   ],
   "source": [
    "from newspaper import Article\n",
    "\n",
    "def get_article_content(url):\n",
    "    try:\n",
    "        article = Article(url)\n",
    "        article.download()\n",
    "        article.parse()\n",
    "        return article.text\n",
    "    except Exception as e:\n",
    "        print(f\"Error fetching content from {url}: {e}\")\n",
    "        return \"\"\n",
    "\n",
    "# Assuming 'news' is a list of dictionaries where each dictionary contains a 'url' key\n",
    "for entry in news:\n",
    "    if 'url' in entry:\n",
    "        entry['content'] = get_article_content(entry['url'])\n",
    "\n",
    "# Now, each dictionary in the 'news' list will have a 'content' key with the extracted article content\n"
   ]
  },
  {
   "cell_type": "markdown",
   "id": "c5292571-ec93-4ea2-bb62-cc611ece87c0",
   "metadata": {},
   "source": [
    "## Step 3: Analyze Sentiment and Make Trading Decisions\n",
    "\n",
    "We'll analyze the sentiment of the news articles and make trading decisions based on the sentiment scores.\n"
   ]
  },
  {
   "cell_type": "code",
   "execution_count": 23,
   "id": "d88678c681dab4a",
   "metadata": {
    "collapsed": false,
    "jupyter": {
     "outputs_hidden": false
    }
   },
   "outputs": [],
   "source": [
    "# Function to analyze sentiment and make trading decisions\n",
    "def analyze_and_trade(news):\n",
    "    for article in news:\n",
    "        headline = article['headline']\n",
    "        content = article.get('content', '')\n",
    "       \n",
    "        \n",
    "        sentiment_headline = sentiment_analyzer.polarity_scores(headline)\n",
    "        sentiment_content = sentiment_analyzer.polarity_scores(content)\n",
    "        sentiment_score_headline = sentiment_headline['compound']\n",
    "        sentiment_score_content = sentiment_content['compound']\n",
    "        sentiment_score = (sentiment_score_headline + sentiment_score_content) / 2\n",
    "        print(f\"Headline: {headline}\")\n",
    "        print(f\"Sentiment Score: {sentiment_score}\")\n",
    "        "
   ]
  },
  {
   "cell_type": "code",
   "execution_count": 2,
   "id": "c420f084-5c14-4868-a7c4-52f62ca62beb",
   "metadata": {},
   "outputs": [
    {
     "ename": "NameError",
     "evalue": "name 'news' is not defined",
     "output_type": "error",
     "traceback": [
      "\u001b[0;31m---------------------------------------------------------------------------\u001b[0m",
      "\u001b[0;31mNameError\u001b[0m                                 Traceback (most recent call last)",
      "Cell \u001b[0;32mIn[2], line 29\u001b[0m\n\u001b[1;32m     25\u001b[0m         \u001b[38;5;28mprint\u001b[39m(\u001b[38;5;124mf\u001b[39m\u001b[38;5;124m\"\u001b[39m\u001b[38;5;124mError placing order: \u001b[39m\u001b[38;5;132;01m{\u001b[39;00me\u001b[38;5;132;01m}\u001b[39;00m\u001b[38;5;124m\"\u001b[39m)\n\u001b[1;32m     28\u001b[0m \u001b[38;5;66;03m# Analyze and trade based on the news\u001b[39;00m\n\u001b[0;32m---> 29\u001b[0m analyze_and_trade(\u001b[43mnews\u001b[49m)\n",
      "\u001b[0;31mNameError\u001b[0m: name 'news' is not defined"
     ]
    }
   ],
   "source": [
    "# Function to make trading decisions\n",
    "def make_trade_decision(symbol, action):\n",
    "    qty = 10  # Example quantity\n",
    "    \n",
    "    try:\n",
    "        if action == 'buy':\n",
    "            alpaca.submit_order(\n",
    "                symbol=symbol,\n",
    "                qty=qty,\n",
    "                side='buy',\n",
    "                type='market',\n",
    "                time_in_force='gtc'\n",
    "            )\n",
    "            print(f\"Buying {qty} shares of {symbol}\")\n",
    "        elif action == 'sell':\n",
    "            alpaca.submit_order(\n",
    "                symbol=symbol,\n",
    "                qty=qty,\n",
    "                side='sell',\n",
    "                type='market',\n",
    "                time_in_force='gtc'\n",
    "            )\n",
    "            print(f\"Selling {qty} shares of {symbol}\")\n",
    "    except Exception as e:\n",
    "        print(f\"Error placing order: {e}\")\n",
    "\n",
    "\n"
   ]
  },
  {
   "cell_type": "code",
   "execution_count": 24,
   "id": "5b4f0153-f159-4666-801d-44e27fb42531",
   "metadata": {},
   "outputs": [
    {
     "name": "stdout",
     "output_type": "stream",
     "text": [
      "Headline: 10 Information Technology Stocks Whale Activity In Today's Session\n",
      "Sentiment Score: 0.4978\n",
      "Headline: Stock Market Rebounds To Resistance Zone, AMD's AI Strategy To Compete With Nvidia\n",
      "Sentiment Score: 0.49885\n",
      "Headline: MoffettNathanson Initiates Coverage On Apple with Neutral Rating, Announces Price Target of $211\n",
      "Sentiment Score: 0.4722\n",
      "Headline: \"Sources Say Apple's In-House Modem Chip Implementation Is Slow; Is The Release Of Apple's Proprietary Modem Imminent? According To Industry Sources, The Process Of Implementing It Will Remain Gradual In 2025, With Existing Chip Provider Qualcomm Not Significantly Affected\" - DigiTimes Alert\n",
      "Sentiment Score: 0.66755\n",
      "Headline: Wearable Devices' Mudra Band Supports Apple Vision Pro Gesture Controls To All Apple Devices\n",
      "Sentiment Score: 0.74335\n",
      "Headline: Taiwan Semiconductor Acquires Tainan Facility For $531M, Plans Major Expansion\n",
      "Sentiment Score: 0.4899\n",
      "Headline: Warren Buffett's $189B Cash Pile Not A Sign Of Looming Market Crash, Says Fund Manager: 'Everybody Gets Excited... But It's Not That Big Of A Number'\n",
      "Sentiment Score: 0.49520000000000003\n",
      "Headline: Apple To Expand Indian Footprint As Tata Sets Up Country's 4th iPhone Assembly Plant: Report\n",
      "Sentiment Score: 0.63375\n",
      "Headline: Apple iPhone 16 Pro To Debut 'Desert Titanium' Color Alongside Four Classic Options, Industry Insider Reveals\n",
      "Sentiment Score: 0.48035\n",
      "Headline: Why Apple Is Plowing Billions Of Dollars Into A Project That Won't Have A Payoff Near Term: Gurman Weighs In\n",
      "Sentiment Score: 0.48515\n",
      "Headline: Consumer Tech News (Aug 11-Aug 17): Research Says TikTok Favors Chinese Government, Apple Plans Thinner Version Of iPhone 17 & More\n",
      "Sentiment Score: -0.25275\n",
      "Headline: AI Power Consumption Shocks Trump, Nvidia's Earnings Anticipation, And Google's Cybersecurity Concerns: This Week In AI\n",
      "Sentiment Score: -0.31255\n",
      "Headline: Apple's iOS 18 Changes, Fortnite's Return, Wechat Mini-Games, And More: This Week In Appleverse\n",
      "Sentiment Score: 0.4878\n",
      "Headline: Apple's Tabletop Robot: The Future Of Home Technology Or A Potential Misstep?\n",
      "Sentiment Score: 0.4908\n",
      "Headline: Benzinga Bulls And Bears: Nvidia, Tesla, Google, Chipotle — And Chuck Schumer Assures Mark Cuban Of Crypto Regulation\n",
      "Sentiment Score: 0.64855\n",
      "Headline: 'Apple reportedly has 'several hundred' working on a robot arm with attached iPad' - TechCrunch\n",
      "Sentiment Score: 0.0\n",
      "Headline: Epic Games Mobile Store Goes Live In Europe, CEO Says Apple 'Had To Be Challenged'\n",
      "Sentiment Score: 0.43445\n",
      "Headline: 10 Information Technology Stocks Whale Activity In Today's Session\n",
      "Sentiment Score: 0.4984\n",
      "Headline: Behind the Scenes of Apple's Latest Options Trends\n",
      "Sentiment Score: 0.49045\n",
      "Headline: Tencent-Backed Epic Games Brings Fortnite Back On The iPhone, This Time With An Entire App Store After Its 4-Year-Long Battle With Apple\n",
      "Sentiment Score: 0.22815\n",
      "Headline: Warren Buffett Still Holds 400M Apple Shares, Reveals New Investments In Ulta Beauty And Heico — Elon Musk Calls Berkshire Hathaway's $277B Cash Reserves 'Wild'\n",
      "Sentiment Score: 0.8569\n",
      "Headline: Three New Pieces Of Data Trigger Aggressive Buying In Nvidia And AI Stocks\n",
      "Sentiment Score: 0.4224\n",
      "Headline: ARM Holdings Shares Surge After Elliott Management Increases Position\n",
      "Sentiment Score: 0.63485\n",
      "Headline: EXCLUSIVE: Which Magnificent 7 Stock Would Investors Put $1,000 In Today? 44% Of Benzinga Readers Pick This Company\n",
      "Sentiment Score: 0.8607\n",
      "Headline: Apple Says Driver's Licenses And State IDs In Apple Wallet Are Coming Soon To California; Users In California With ID In Apple Wallet Can Use iPhone/Apple Watch To Present ID In Person At Select TSA Security Checkpoints & Businesses\n",
      "Sentiment Score: 0.6422\n",
      "Headline: Market Clubhouse Morning Memo - August 15th, 2024 (Trade Strategy For SPY, QQQ, AAPL, MSFT, NVDA, GOOGL, META and TSLA)\n",
      "Sentiment Score: 0.49755\n",
      "Headline: Apple, Tencent Discussing Potential Revenue-Sharing Deal For WeChat Mini-Games, Says Chinese Game Maker Exec\n",
      "Sentiment Score: 0.4949\n",
      "Headline: These 4 Stocks Are Soaring In Premarket As Warren Buffett's Berkshire Hathaway Takes A Stake\n",
      "Sentiment Score: 0.496\n",
      "Headline: Apple's Tabletop iPad Robot With Limbs Could Make Its Way To Your Home By 2027: Here's What This Twist On Amazon And Meta Products Might Cost\n",
      "Sentiment Score: 0.577\n",
      "Headline: Third Point LLC Q2 2024 13F Shows New Positions Include 1.95M Apple Shares, 2.8M Amphenol Shares, 2.1M KB Home Shares, 1.37M Live Nation Shares, 275K Micron Shares, 240K Roper Technologies Shares, 150K MSCI Shares, 150K Dynatrace Shares, 80K ASML Shares, 650K CRH Shares, And 625K Hess Shares\n",
      "Sentiment Score: 0.9519500000000001\n",
      "Headline: Apple Moves Ahead With Tabletop Robot Push, Led By Ex-Car Chief\n",
      "Sentiment Score: 0.0\n",
      "Headline: 10 Information Technology Stocks Whale Activity In Today's Session\n",
      "Sentiment Score: 0.4975\n",
      "Headline: Two Bullish Bets On China\n",
      "Sentiment Score: 0.49605\n",
      "Headline: 'Developers Can Soon Offer In‑App NFC Transactions Using The Secure Element' - Apple Newsroom\n",
      "Sentiment Score: -0.2324\n",
      "Headline: Apple Finally Gives In, Allows Spotify To Show Alternative Pricing On Its Outside Of App Store\n",
      "Sentiment Score: 0.0\n",
      "Headline: Market Clubhouse Morning Memo - August 14th, 2024 (Trade Strategy For SPY, QQQ, AAPL, MSFT, NVDA, GOOGL, META And TSLA)\n",
      "Sentiment Score: 0.49865\n",
      "Headline: Nvidia Position Building Ahead Of Earnings, CPI Dampens Super Bullish Stock Market Hopium\n",
      "Sentiment Score: 0.79135\n",
      "Headline: What's Going On With Taiwan Semiconductor Stock On Wednesday?\n",
      "Sentiment Score: 0.49355\n",
      "Headline: Meta's Threads May Soon Offer Disappearing Posts, Adding Privacy Features: Report\n",
      "Sentiment Score: 0.475\n",
      "Headline: Nvidia, Super Micro Computer Surge In Pre-Market: What's Powering AI Stalwarts' Stocks?\n",
      "Sentiment Score: 0.7946500000000001\n",
      "Headline: Apple, Nvidia Supplier Foxconn Clocks Record June Quarter Revenue As Net Margin Slips, Issues Upbeat Q3 Guidance: Management Touts AI Servers As Company's 'Next Trillion-Dollar-Revenue Product'\n",
      "Sentiment Score: 0.48479999999999995\n",
      "Headline: Apple Is Now India's Fastest-Growing Manufacturer In 50 Years: Report\n",
      "Sentiment Score: 0.4839\n",
      "Headline: Stock Of The Day: Is Apple The Alpha Stock?\n",
      "Sentiment Score: 0.49415\n",
      "Headline: Apple Shares Are Up Today: What You Need To Know\n",
      "Sentiment Score: 0.5981\n",
      "Headline: Tech Sector Volatility Presents Opportunities With Direxion's Leveraged ETFs\n",
      "Sentiment Score: 0.68255\n",
      "Headline: Apple, Intel, And AMD Lead Charge In AI-Capable PC Market Surge: Report\n",
      "Sentiment Score: 0.49325\n",
      "Headline: 10 Information Technology Stocks Whale Activity In Today's Session\n",
      "Sentiment Score: 0.49825\n",
      "Headline: Pay Attention: Inflation Headline Is Misleading, Home Depot Earnings Show Consumer Weakness\n",
      "Sentiment Score: 0.1437\n",
      "Headline: Assessing Apple's Performance Against Competitors In Technology Hardware, Storage &amp; Peripherals Industry\n",
      "Sentiment Score: 0.49715\n",
      "Headline: Market Clubhouse Morning Memo - August 10th, 2024 (Trade Strategy For SPY, QQQ, AAPL, MSFT, NVDA, GOOGL, META And TSLA)\n",
      "Sentiment Score: 0.49875\n"
     ]
    }
   ],
   "source": [
    "# Analyze and trade based on the news\n",
    "analyze_and_trade(news)"
   ]
  }
 ],
 "metadata": {
  "kernelspec": {
   "display_name": "Python 3 (ipykernel)",
   "language": "python",
   "name": "python3"
  },
  "language_info": {
   "codemirror_mode": {
    "name": "ipython",
    "version": 3
   },
   "file_extension": ".py",
   "mimetype": "text/x-python",
   "name": "python",
   "nbconvert_exporter": "python",
   "pygments_lexer": "ipython3",
   "version": "3.11.7"
  }
 },
 "nbformat": 4,
 "nbformat_minor": 5
}
